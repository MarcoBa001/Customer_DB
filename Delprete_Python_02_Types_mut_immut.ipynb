{
  "cells": [
    {
      "cell_type": "markdown",
      "metadata": {
        "id": "view-in-github",
        "colab_type": "text"
      },
      "source": [
        "<a href=\"https://colab.research.google.com/github/MarcoBa001/Customer_DB/blob/main/Delprete_Python_02_Types_mut_immut.ipynb\" target=\"_parent\"><img src=\"https://colab.research.google.com/assets/colab-badge.svg\" alt=\"Open In Colab\"/></a>"
      ]
    },
    {
      "cell_type": "markdown",
      "metadata": {
        "id": "92iHsmfsSy0S"
      },
      "source": [
        "# Corso IFTS 2024\n",
        "# bit.ly/engim_python2\n",
        "\n",
        "by Stefania Delprete  \n",
        "EA Italy APS ([Altruismo Efficace](https://altruismoefficace.it))\n",
        "\n",
        "✉️ [astrastefania@gmail.com](mailto:astrastefania@gmail.com)\n",
        "👥 [linkedin.com/in/astrastefania](https://www.linkedin.com/in/astrastefania)  \n",
        "\n",
        "---\n",
        "\n",
        "# Oggetti in Python"
      ]
    },
    {
      "cell_type": "markdown",
      "metadata": {
        "id": "XXAuB1jWSy0Y"
      },
      "source": [
        "Tutto è un oggetto in Python, il valore di certi oggetti può cambiare.  \n",
        "Se può cambiare sono oggetti mutabili, se il valore non può cambiare sono detti immutabili."
      ]
    },
    {
      "cell_type": "markdown",
      "metadata": {
        "cell_style": "split",
        "id": "CjfOvOsQSy0Z"
      },
      "source": [
        "### Immutabile objects (buil-in types)\n",
        "\n",
        "* int\n",
        "* float\n",
        "* bool\n",
        "* str\n",
        "* tuple"
      ]
    },
    {
      "cell_type": "markdown",
      "metadata": {
        "cell_style": "split",
        "id": "VQMRtOeESy0a"
      },
      "source": [
        "### Mutabile (buil-in types)\n",
        "\n",
        "* list\n",
        "* dictionary\n",
        "* set"
      ]
    },
    {
      "cell_type": "code",
      "execution_count": null,
      "metadata": {
        "id": "F35Ft9woSy0b"
      },
      "outputs": [],
      "source": [
        "help(id)"
      ]
    },
    {
      "cell_type": "markdown",
      "metadata": {
        "id": "gsKvxeNgSy0d"
      },
      "source": [
        "## str, immutabile\n",
        "Verifichiamo che l'oggetto di tipo **str** sia immutabile.  \n",
        "Se è immutabile quando si prova ad aggiornare il suo valore se ne creerà uno nuovo con un diverso indice."
      ]
    },
    {
      "cell_type": "code",
      "execution_count": null,
      "metadata": {
        "id": "tFKfut2hSy0e"
      },
      "outputs": [],
      "source": [
        "nome = 'Andrea'\n",
        "print(type(nome), nome)\n",
        "print(id(nome))"
      ]
    },
    {
      "cell_type": "code",
      "execution_count": null,
      "metadata": {
        "id": "X_pYadk7Sy0f"
      },
      "outputs": [],
      "source": [
        "nome = nome + ' Elena'\n",
        "print(type(nome), nome)\n",
        "print(id(nome))"
      ]
    },
    {
      "cell_type": "markdown",
      "metadata": {
        "id": "QCHKIJ3tSy0f"
      },
      "source": [
        "## int, immutabile\n",
        "Verifichiamo che l'oggetto di tipo **int** sia immutabile."
      ]
    },
    {
      "cell_type": "code",
      "execution_count": null,
      "metadata": {
        "id": "q388kf-iSy0g"
      },
      "outputs": [],
      "source": [
        "year = 2021\n",
        "print(type(year), year)\n",
        "print(id(year))"
      ]
    },
    {
      "cell_type": "code",
      "execution_count": null,
      "metadata": {
        "id": "1C-M69jDSy0g"
      },
      "outputs": [],
      "source": [
        "year = year + 1\n",
        "print(type(year), year)\n",
        "print(id(year))"
      ]
    },
    {
      "cell_type": "markdown",
      "metadata": {
        "id": "Ci6BhUkJSy0i"
      },
      "source": [
        "## list, mutabile\n",
        "Ora verifichiamo che l'oggetto di tipo **list** sia mutabile.  \n",
        "In questo caso ci aspettiamo lo stesso indice anche dopo aver aggironato il suo valore."
      ]
    },
    {
      "cell_type": "code",
      "execution_count": null,
      "metadata": {
        "id": "dx2sKndqSy0i"
      },
      "outputs": [],
      "source": [
        "punteggio = [4,2,3,5,4,2,2]\n",
        "print(type(punteggio), punteggio)\n",
        "print(id(punteggio))"
      ]
    },
    {
      "cell_type": "code",
      "execution_count": null,
      "metadata": {
        "id": "cEerWypRSy0i"
      },
      "outputs": [],
      "source": [
        "punteggio.append(5)\n",
        "print(type(punteggio), punteggio)\n",
        "print(id(punteggio))  # stesso id, è la lista che muta, ha un elemento in più"
      ]
    },
    {
      "cell_type": "markdown",
      "metadata": {
        "id": "pEyplQDwSy0i"
      },
      "source": [
        "### Altre manipolazioni di numeri"
      ]
    },
    {
      "cell_type": "code",
      "execution_count": null,
      "metadata": {
        "id": "QX4T-ulzSy0i"
      },
      "outputs": [],
      "source": [
        "int(3.4)"
      ]
    },
    {
      "cell_type": "code",
      "execution_count": null,
      "metadata": {
        "id": "xLmLST_WSy0j"
      },
      "outputs": [],
      "source": [
        "int(3.7)"
      ]
    },
    {
      "cell_type": "code",
      "execution_count": null,
      "metadata": {
        "id": "0YLrlHqNSy0j"
      },
      "outputs": [],
      "source": [
        "int('37')"
      ]
    },
    {
      "cell_type": "code",
      "execution_count": null,
      "metadata": {
        "id": "vnylYARGSy0k"
      },
      "outputs": [],
      "source": [
        "type('37'), type(int('37'))"
      ]
    },
    {
      "cell_type": "code",
      "execution_count": null,
      "metadata": {
        "id": "rnspgacCSy0l"
      },
      "outputs": [],
      "source": [
        "int('100', 2) # convertiamo la stringa '100' in un intero 100 e lo converte da base 2 a decimale"
      ]
    },
    {
      "cell_type": "code",
      "source": [
        "int('200', 3)"
      ],
      "metadata": {
        "id": "JX8gzpT0Gyp7"
      },
      "execution_count": null,
      "outputs": []
    },
    {
      "cell_type": "code",
      "execution_count": null,
      "metadata": {
        "id": "s9yf7kfKSy0l"
      },
      "outputs": [],
      "source": [
        "# elevamento a potenza\n",
        "2 ** 3"
      ]
    },
    {
      "cell_type": "code",
      "execution_count": null,
      "metadata": {
        "id": "zDuXDuuVSy0l"
      },
      "outputs": [],
      "source": [
        "3e8 # 3 * 10^8"
      ]
    },
    {
      "cell_type": "code",
      "execution_count": null,
      "metadata": {
        "id": "Vs4IkhPHSy0l"
      },
      "outputs": [],
      "source": [
        "3.1e-3"
      ]
    },
    {
      "cell_type": "code",
      "execution_count": null,
      "metadata": {
        "id": "veh7BrQnSy0l"
      },
      "outputs": [],
      "source": [
        "float('nan')"
      ]
    },
    {
      "cell_type": "code",
      "execution_count": null,
      "metadata": {
        "id": "sNmuOysjSy0m"
      },
      "outputs": [],
      "source": [
        "type(float('nan'))"
      ]
    },
    {
      "cell_type": "code",
      "execution_count": null,
      "metadata": {
        "id": "yoC9BZcHSy0m"
      },
      "outputs": [],
      "source": []
    },
    {
      "cell_type": "markdown",
      "metadata": {
        "id": "vFsNIFESSy0m"
      },
      "source": [
        "### Conversioni in basi diverse"
      ]
    },
    {
      "cell_type": "code",
      "execution_count": null,
      "metadata": {
        "id": "OEhAY_WPSy0m"
      },
      "outputs": [],
      "source": [
        "0b10 # 10 da binario a decimale"
      ]
    },
    {
      "cell_type": "code",
      "execution_count": null,
      "metadata": {
        "id": "yPd6IvHZSy0n"
      },
      "outputs": [],
      "source": [
        "0o10 # 10 da base 8 a decimale"
      ]
    },
    {
      "cell_type": "code",
      "execution_count": null,
      "metadata": {
        "id": "U2-ISwCESy0n"
      },
      "outputs": [],
      "source": [
        "0x10 # 10 da base 16 a decimale"
      ]
    },
    {
      "cell_type": "code",
      "execution_count": null,
      "metadata": {
        "id": "iMvh9orFSy0n"
      },
      "outputs": [],
      "source": []
    },
    {
      "cell_type": "code",
      "execution_count": null,
      "metadata": {
        "id": "SrvW6TZXSy0n"
      },
      "outputs": [],
      "source": [
        "bin(2) # da decimale a binario"
      ]
    },
    {
      "cell_type": "code",
      "execution_count": null,
      "metadata": {
        "id": "m0K8eW8-Sy0n"
      },
      "outputs": [],
      "source": []
    },
    {
      "cell_type": "markdown",
      "metadata": {
        "collapsed": true,
        "id": "iMGFuiPNSy0o"
      },
      "source": [
        "---\n",
        "\n",
        "## Oggetti build-in e alcuni loro metodi\n",
        "\n",
        "https://docs.python.org/3/library/stdtypes.html"
      ]
    },
    {
      "cell_type": "markdown",
      "metadata": {
        "id": "NC8C7c0ySy0p"
      },
      "source": [
        "## tuple, immutabile"
      ]
    },
    {
      "cell_type": "code",
      "execution_count": null,
      "metadata": {
        "id": "I4ZBWkyrSy0p"
      },
      "outputs": [],
      "source": [
        "# creaiamo una tupla con le parentesi tonde\n",
        "linguaggi = ('Pyhton', 'Rust', 'C', 'JavaScript')\n",
        "print(linguaggi)\n",
        "print(type(linguaggi))"
      ]
    },
    {
      "cell_type": "code",
      "execution_count": null,
      "metadata": {
        "id": "-fZQBznDSy0p"
      },
      "outputs": [],
      "source": [
        "linguaggi[1]"
      ]
    },
    {
      "cell_type": "code",
      "execution_count": null,
      "metadata": {
        "id": "VF7dR5mHSy0p"
      },
      "outputs": [],
      "source": [
        "linguaggi[:2]"
      ]
    },
    {
      "cell_type": "markdown",
      "metadata": {
        "id": "6Ct5YD33Sy0p"
      },
      "source": [
        "## list, mutabile"
      ]
    },
    {
      "cell_type": "code",
      "execution_count": null,
      "metadata": {
        "id": "A5_lpOdCSy0p"
      },
      "outputs": [],
      "source": [
        "# possiamo creare una lista 'splittando' una stringa\n",
        "semi = 'cuori, quadri, fiori'.split(',')\n",
        "print(semi) # la lista è sempre identificata dalle parentesi quadre\n",
        "print(type(semi))"
      ]
    },
    {
      "cell_type": "code",
      "execution_count": null,
      "metadata": {
        "id": "B1HOIDQTSy0p"
      },
      "outputs": [],
      "source": [
        "semi.append('picche')\n",
        "semi"
      ]
    },
    {
      "cell_type": "code",
      "execution_count": null,
      "metadata": {
        "id": "2lxc9EJBSy0q"
      },
      "outputs": [],
      "source": [
        "semi.pop()\n",
        "semi"
      ]
    },
    {
      "cell_type": "code",
      "execution_count": null,
      "metadata": {
        "id": "XjSnKFzzSy0q"
      },
      "outputs": [],
      "source": [
        "range(9) # range è un tipo build-in immutabile"
      ]
    },
    {
      "cell_type": "code",
      "execution_count": null,
      "metadata": {
        "id": "qIB6kderSy0q"
      },
      "outputs": [],
      "source": [
        "digits = list(range(10)) # list converte un range in lista\n",
        "digits"
      ]
    },
    {
      "cell_type": "code",
      "execution_count": null,
      "metadata": {
        "id": "PYrfDkOvSy0q"
      },
      "outputs": [],
      "source": [
        "# range(estr. iniziale, estr. finale, step)\n",
        "list(range(5,51,5)) # da 5 a 50 a passi ad 5"
      ]
    },
    {
      "cell_type": "code",
      "execution_count": null,
      "metadata": {
        "id": "dPIEk-JoSy0r"
      },
      "outputs": [],
      "source": [
        "digits.sort()\n",
        "digits"
      ]
    },
    {
      "cell_type": "code",
      "execution_count": null,
      "metadata": {
        "id": "x7qoBezuSy0r"
      },
      "outputs": [],
      "source": [
        "digits.sort(reverse=True) # ordinamento dal più grande al più piccolo\n",
        "digits"
      ]
    },
    {
      "cell_type": "code",
      "source": [
        "help(digits.sort)"
      ],
      "metadata": {
        "id": "Q3Wp7Hv7KYOU"
      },
      "execution_count": null,
      "outputs": []
    },
    {
      "cell_type": "code",
      "source": [
        "help(list.sort)"
      ],
      "metadata": {
        "id": "PQO9PxLaKkpi"
      },
      "execution_count": null,
      "outputs": []
    },
    {
      "cell_type": "code",
      "execution_count": null,
      "metadata": {
        "id": "nyQBbRtTSy0r"
      },
      "outputs": [],
      "source": [
        "7 in digits"
      ]
    },
    {
      "cell_type": "code",
      "execution_count": null,
      "metadata": {
        "id": "fV8KTWQcSy0s"
      },
      "outputs": [],
      "source": [
        "18 in digits"
      ]
    },
    {
      "cell_type": "code",
      "execution_count": null,
      "metadata": {
        "id": "4NmDtNv5Sy0s"
      },
      "outputs": [],
      "source": []
    },
    {
      "cell_type": "code",
      "execution_count": null,
      "metadata": {
        "id": "6qA60_r7Sy0s"
      },
      "outputs": [],
      "source": [
        "# Inizializzo una lista vuota\n",
        "mix = []\n",
        "mix"
      ]
    },
    {
      "cell_type": "code",
      "execution_count": null,
      "metadata": {
        "id": "dU-iyVTESy0s"
      },
      "outputs": [],
      "source": [
        "# Attenzione se questa cella verrà eseguita più volte verrà inserita\n",
        "# alla fine la stringa 'Feynman' più volte\n",
        "mix.append('Feynman')\n",
        "mix"
      ]
    },
    {
      "cell_type": "code",
      "source": [],
      "metadata": {
        "id": "1uRW4LjmLEsE"
      },
      "execution_count": null,
      "outputs": []
    },
    {
      "cell_type": "code",
      "source": [],
      "metadata": {
        "id": "iHq0TIzqLLyx"
      },
      "execution_count": null,
      "outputs": []
    },
    {
      "cell_type": "code",
      "execution_count": null,
      "metadata": {
        "id": "q-jqZd9ESy0t"
      },
      "outputs": [],
      "source": [
        "# Posso avere una lista dentro una lista e diversi tipi di oggetti\n",
        "mix.append([3.14, 2.72])\n",
        "mix"
      ]
    },
    {
      "cell_type": "code",
      "execution_count": null,
      "metadata": {
        "id": "4XN0CmvkSy0t"
      },
      "outputs": [],
      "source": [
        "mix.insert(1,'namaste') # insert(indice, elemento da aggiungere)\n",
        "mix"
      ]
    },
    {
      "cell_type": "code",
      "execution_count": null,
      "metadata": {
        "id": "FYF2da3_Sy0t"
      },
      "outputs": [],
      "source": [
        "del mix[2] # elimino l'elemento con indice 2\n",
        "mix"
      ]
    },
    {
      "cell_type": "markdown",
      "metadata": {
        "collapsed": true,
        "id": "zMpJjRRjSy0t"
      },
      "source": [
        "## It's play time!\n",
        "\n",
        "1. Crea una stringa di 5 numeri scritti in lettere separati da virgola ('uno, due, ... ')\n",
        "2. Convertila in lista con `.split()` con il corretto argomento\n",
        "3. Appendi 'sei' alla fine della lista\n",
        "4. Inserisci il float 3.14 fra gli elementi 'tre' e 'quattro'\n",
        "5. Elimina 3.14 dalla lista\n",
        "\n",
        "Visualizza la lista ad ogni passaggio"
      ]
    },
    {
      "cell_type": "code",
      "execution_count": null,
      "metadata": {
        "id": "nbCToz-rSy0t"
      },
      "outputs": [],
      "source": []
    },
    {
      "cell_type": "code",
      "execution_count": null,
      "metadata": {
        "id": "5GyaKu872UOM"
      },
      "outputs": [],
      "source": []
    },
    {
      "cell_type": "code",
      "execution_count": null,
      "metadata": {
        "id": "30RhN65C2UWO"
      },
      "outputs": [],
      "source": []
    },
    {
      "cell_type": "markdown",
      "metadata": {
        "id": "agsAHAWZSy0v"
      },
      "source": [
        "---"
      ]
    },
    {
      "cell_type": "markdown",
      "metadata": {
        "collapsed": true,
        "id": "lRBxapgRSy0v"
      },
      "source": [
        "## dictionary"
      ]
    },
    {
      "cell_type": "code",
      "execution_count": null,
      "metadata": {
        "id": "kXr3QY_DSy0v"
      },
      "outputs": [],
      "source": [
        "# Inizializziamo un dizionario vuoto usando le parentesi graffe\n",
        "ds = {}\n",
        "ds"
      ]
    },
    {
      "cell_type": "code",
      "execution_count": null,
      "metadata": {
        "id": "-kFNUaL-Sy0v"
      },
      "outputs": [],
      "source": [
        "ds['np']='NumPy'\n",
        "ds"
      ]
    },
    {
      "cell_type": "code",
      "execution_count": null,
      "metadata": {
        "id": "lVfLfFDFSy0w"
      },
      "outputs": [],
      "source": [
        "ds[1]='Pandas'\n",
        "ds"
      ]
    },
    {
      "cell_type": "code",
      "execution_count": null,
      "metadata": {
        "id": "VD4o6lIYSy0w"
      },
      "outputs": [],
      "source": [
        "# Creiamo direttamente un dizionario con voci iniziali\n",
        "lib = {'np': 'NumPy',\n",
        "       'pd': 'Pandas'}\n",
        "lib"
      ]
    },
    {
      "cell_type": "code",
      "execution_count": null,
      "metadata": {
        "id": "fg19sg2vSy0w"
      },
      "outputs": [],
      "source": [
        "type(lib)"
      ]
    },
    {
      "cell_type": "code",
      "execution_count": null,
      "metadata": {
        "id": "qVKpSlqFSy0w"
      },
      "outputs": [],
      "source": [
        "dir(dict)"
      ]
    },
    {
      "cell_type": "code",
      "execution_count": null,
      "metadata": {
        "id": "Cb1rjfdSSy0w"
      },
      "outputs": [],
      "source": [
        "# Aggiorniamo con più di una chiave-valore allo stesso momento\n",
        "lib.update({'plt': 'Matplotlib','sns': 'Seaborn'})"
      ]
    },
    {
      "cell_type": "code",
      "execution_count": null,
      "metadata": {
        "id": "kJy9qFGYSy0w"
      },
      "outputs": [],
      "source": [
        "lib"
      ]
    },
    {
      "cell_type": "code",
      "execution_count": null,
      "metadata": {
        "id": "9SUHbPyFSy0w"
      },
      "outputs": [],
      "source": [
        "# Richiamiamo il valore corrispondente alla key 'np'\n",
        "lib['np']"
      ]
    },
    {
      "cell_type": "code",
      "execution_count": null,
      "metadata": {
        "id": "9Qf71QpvSy0w"
      },
      "outputs": [],
      "source": [
        "# Richiamiamo le chiavi del dizionario\n",
        "lib.keys()"
      ]
    },
    {
      "cell_type": "code",
      "execution_count": null,
      "metadata": {
        "id": "uXDWh4Ej2eXh"
      },
      "outputs": [],
      "source": [
        "# Richiamiamo i valori del dizionario\n",
        "lib.values()"
      ]
    },
    {
      "cell_type": "code",
      "execution_count": null,
      "metadata": {
        "id": "YlleLzDeSy0w"
      },
      "outputs": [],
      "source": [
        "# Richiamiamo le coppie chiave-valore del dizionario\n",
        "lib.items()"
      ]
    },
    {
      "cell_type": "code",
      "execution_count": null,
      "metadata": {
        "id": "4fx4uK1gSy0w"
      },
      "outputs": [],
      "source": []
    },
    {
      "cell_type": "markdown",
      "metadata": {
        "collapsed": true,
        "id": "wBWJ3ZkESy0x"
      },
      "source": [
        "## It's play time!\n",
        "\n",
        "1. Crea un dizionario `quiz` associando per ciascun valore chiave 'name', 'surname', 'age', 'score' una lista di tre elementi  \n",
        "2. Visualizza il dizionario\n",
        "3. Richiama solo i valori della chiave 'score'\n",
        "4. Richiama tutte le coppie chiave-valori"
      ]
    },
    {
      "cell_type": "code",
      "execution_count": null,
      "metadata": {
        "id": "3vNDgPGA2blw"
      },
      "outputs": [],
      "source": []
    },
    {
      "cell_type": "code",
      "source": [],
      "metadata": {
        "id": "01UXF82kTYw2"
      },
      "execution_count": null,
      "outputs": []
    },
    {
      "cell_type": "code",
      "source": [],
      "metadata": {
        "id": "gFjGh9a5TY0K"
      },
      "execution_count": null,
      "outputs": []
    },
    {
      "cell_type": "code",
      "source": [],
      "metadata": {
        "id": "hWFXADdDTY3O"
      },
      "execution_count": null,
      "outputs": []
    },
    {
      "cell_type": "code",
      "source": [],
      "metadata": {
        "id": "oDCMl6QMTY6M"
      },
      "execution_count": null,
      "outputs": []
    },
    {
      "cell_type": "code",
      "execution_count": null,
      "metadata": {
        "id": "A5LUP6uQ2bsj"
      },
      "outputs": [],
      "source": []
    },
    {
      "cell_type": "code",
      "execution_count": null,
      "metadata": {
        "id": "tgNIt7EK2bz8"
      },
      "outputs": [],
      "source": []
    },
    {
      "cell_type": "code",
      "execution_count": null,
      "metadata": {
        "id": "NECkrC8DSy0y"
      },
      "outputs": [],
      "source": []
    },
    {
      "cell_type": "markdown",
      "metadata": {
        "id": "N5tA2pNfSy0y"
      },
      "source": [
        "# set\n",
        "\n",
        "Gli elementi in un set sono sempre univoci, se nella creazione del set ci sono elementi ripetuti se ne terrà conto solo di un rappresentante."
      ]
    },
    {
      "cell_type": "code",
      "execution_count": null,
      "metadata": {
        "id": "084RJSNnSy0y"
      },
      "outputs": [],
      "source": [
        "# Per inizializzare un set\n",
        "set_vuoto = set()"
      ]
    },
    {
      "cell_type": "code",
      "source": [],
      "metadata": {
        "id": "rN3_BgoIjSAV"
      },
      "execution_count": null,
      "outputs": []
    },
    {
      "cell_type": "code",
      "execution_count": null,
      "metadata": {
        "id": "BbwdbOTWSy0y"
      },
      "outputs": [],
      "source": [
        "set_vuoto"
      ]
    },
    {
      "cell_type": "code",
      "execution_count": null,
      "metadata": {
        "id": "U0zs_4LfSy0y"
      },
      "outputs": [],
      "source": [
        "# Genero set a partire da liste\n",
        "a = [1,2,3,4,4,5,6]\n",
        "seta = set(a)\n",
        "\n",
        "b = [4,5,6,7,8,9,6,8,100]\n",
        "setb = set(b)"
      ]
    },
    {
      "cell_type": "code",
      "execution_count": null,
      "metadata": {
        "id": "-1nCa0tcSy0z"
      },
      "outputs": [],
      "source": [
        "seta"
      ]
    },
    {
      "cell_type": "code",
      "execution_count": null,
      "metadata": {
        "id": "Andj9ncQSy0z"
      },
      "outputs": [],
      "source": [
        "setb"
      ]
    },
    {
      "cell_type": "code",
      "execution_count": null,
      "metadata": {
        "id": "fEyrrPfDSy0z"
      },
      "outputs": [],
      "source": [
        "setc = {1, 4, 1, 1, 7, 100}"
      ]
    },
    {
      "cell_type": "code",
      "execution_count": null,
      "metadata": {
        "id": "yPuQdF67Sy0z"
      },
      "outputs": [],
      "source": [
        "# Notiamo che non ci sono più gli elementi ripetuti e che l'insieme viene ordinato\n",
        "setc"
      ]
    },
    {
      "cell_type": "code",
      "execution_count": null,
      "metadata": {
        "id": "MJ7VMQ0jSy00"
      },
      "outputs": [],
      "source": [
        "type(setc)"
      ]
    },
    {
      "cell_type": "code",
      "execution_count": null,
      "metadata": {
        "id": "PL7TCxmdSy00"
      },
      "outputs": [],
      "source": [
        "# Interesezione\n",
        "seta & setb"
      ]
    },
    {
      "cell_type": "code",
      "execution_count": null,
      "metadata": {
        "id": "yglXjEpBSy00"
      },
      "outputs": [],
      "source": [
        "type(seta & setb)"
      ]
    },
    {
      "cell_type": "code",
      "execution_count": null,
      "metadata": {
        "id": "6f7kKnVFSy01"
      },
      "outputs": [],
      "source": [
        "# Tolgo l'intersezione fra i due set dal primo set (seta)\n",
        "seta - setb"
      ]
    },
    {
      "cell_type": "code",
      "execution_count": null,
      "metadata": {
        "id": "p15fbeI4Sy01"
      },
      "outputs": [],
      "source": [
        "# Il sottoinsieme generato è sempre di tipo set\n",
        "type(seta - setb)"
      ]
    },
    {
      "cell_type": "code",
      "execution_count": null,
      "metadata": {
        "id": "IWdagVq1Sy02"
      },
      "outputs": [],
      "source": [
        "setc - seta"
      ]
    },
    {
      "cell_type": "code",
      "execution_count": null,
      "metadata": {
        "id": "FIqrSmACSy02"
      },
      "outputs": [],
      "source": [
        "# Tolgo l'intersezione fra i due set dal secondo set (setb)\n",
        "setb - seta"
      ]
    },
    {
      "cell_type": "code",
      "execution_count": null,
      "metadata": {
        "id": "BZTZbT9ISy02"
      },
      "outputs": [],
      "source": [
        "# Unione set\n",
        "seta | setb"
      ]
    },
    {
      "cell_type": "code",
      "execution_count": null,
      "metadata": {
        "id": "xRQjKc_YSy02"
      },
      "outputs": [],
      "source": [
        "# Unione degli elementi dei due set senza la loro intersezione\n",
        "seta ^ setb"
      ]
    },
    {
      "cell_type": "code",
      "execution_count": null,
      "metadata": {
        "id": "C--CkPRcSy02"
      },
      "outputs": [],
      "source": [
        "# Verifica\n",
        "interzione = seta & setb\n",
        "unione = seta | setb"
      ]
    },
    {
      "cell_type": "code",
      "execution_count": null,
      "metadata": {
        "id": "wgnX2ppXSy02"
      },
      "outputs": [],
      "source": [
        "unione - interzione"
      ]
    },
    {
      "cell_type": "code",
      "execution_count": null,
      "metadata": {
        "id": "meD_TuymSy02"
      },
      "outputs": [],
      "source": []
    },
    {
      "cell_type": "code",
      "execution_count": null,
      "metadata": {
        "id": "kus3_UQ6Sy02"
      },
      "outputs": [],
      "source": [
        "# Vale anche nei set la keyword 'in'\n",
        "5 in seta & setb"
      ]
    },
    {
      "cell_type": "code",
      "execution_count": null,
      "metadata": {
        "id": "J6HbHL_uSy03"
      },
      "outputs": [],
      "source": [
        "1 in seta & setb"
      ]
    },
    {
      "cell_type": "code",
      "execution_count": null,
      "metadata": {
        "id": "oQmgkabHSy03"
      },
      "outputs": [],
      "source": []
    },
    {
      "cell_type": "code",
      "execution_count": null,
      "metadata": {
        "id": "ZPaxUe_ISy03"
      },
      "outputs": [],
      "source": [
        "# Possiamo anche convertire set in liste con list()\n",
        "list(seta ^ setb)"
      ]
    },
    {
      "cell_type": "code",
      "execution_count": null,
      "metadata": {
        "id": "NfmNx9eOSy04"
      },
      "outputs": [],
      "source": []
    },
    {
      "cell_type": "code",
      "execution_count": null,
      "metadata": {
        "id": "MLdl7xgdSy04"
      },
      "outputs": [],
      "source": []
    },
    {
      "cell_type": "code",
      "execution_count": null,
      "metadata": {
        "id": "C9kcA33_Sy04"
      },
      "outputs": [],
      "source": []
    },
    {
      "cell_type": "markdown",
      "metadata": {
        "id": "gExcL8reSy04"
      },
      "source": [
        "## It's play time!\n",
        "\n",
        "Per ogni tipo di oggetto (stringhe, int, tuple, liste, dizionari... ):\n",
        "* Creane uno commentando se è un tipo mutabile o immutabile\n",
        "* Applica per ognuno almeno due metodi visti insieme"
      ]
    },
    {
      "cell_type": "code",
      "execution_count": null,
      "metadata": {
        "id": "zkn57SZe2ozN"
      },
      "outputs": [],
      "source": []
    },
    {
      "cell_type": "code",
      "execution_count": null,
      "metadata": {
        "id": "jSS2k3Cr2o5K"
      },
      "outputs": [],
      "source": []
    },
    {
      "cell_type": "code",
      "source": [],
      "metadata": {
        "id": "igiTGTrimM7f"
      },
      "execution_count": null,
      "outputs": []
    },
    {
      "cell_type": "code",
      "source": [],
      "metadata": {
        "id": "Emo63dxbmM-9"
      },
      "execution_count": null,
      "outputs": []
    },
    {
      "cell_type": "code",
      "execution_count": null,
      "metadata": {
        "id": "mQQ61NbbSy06"
      },
      "outputs": [],
      "source": []
    },
    {
      "cell_type": "code",
      "execution_count": null,
      "metadata": {
        "id": "aNGFTrllSy06"
      },
      "outputs": [],
      "source": []
    }
  ],
  "metadata": {
    "colab": {
      "provenance": [],
      "toc_visible": true,
      "include_colab_link": true
    },
    "kernelspec": {
      "display_name": "Python 3",
      "language": "python",
      "name": "python3"
    },
    "language_info": {
      "codemirror_mode": {
        "name": "ipython",
        "version": 3
      },
      "file_extension": ".py",
      "mimetype": "text/x-python",
      "name": "python",
      "nbconvert_exporter": "python",
      "pygments_lexer": "ipython3",
      "version": "3.8.5"
    }
  },
  "nbformat": 4,
  "nbformat_minor": 0
}